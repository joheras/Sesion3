{
  "cells": [
    {
      "cell_type": "markdown",
      "metadata": {
        "id": "aaRjJfK0mCu8"
      },
      "source": [
        "# Sesión 3: estructuras de datos y ficheros"
      ]
    },
    {
      "cell_type": "markdown",
      "metadata": {
        "id": "OfEu7DuRmCu-"
      },
      "source": [
        "En esta sesión vamos a incidir de nuevo en el manejo de estructuras de alto nivel (listas, tuplas, conjuntos y diccionarios). Además, tratamos brevemente el asunto de los ficheros en Python. No vamos a entrar de lleno en ello, ya que, para los objetivos del curso, resulta más conveniente esperar a tratar el manejo de ficheros usando librerías (Pandas y Numpy)."
      ]
    },
    {
      "cell_type": "markdown",
      "metadata": {
        "id": "cy82JMKkmCu-"
      },
      "source": [
        "Podemos encontrar explicación con un nivel suficiente de detalle en la [Sección 5 del tutorial de Python](https://docs.python.org/3/tutorial/datastructures.html).\n",
        "\n",
        "También es adecuda la sección dedicada a  \"data structures and sequences\" del Apéndice del libro \"Python for data anlysis\"."
      ]
    },
    {
      "cell_type": "markdown",
      "metadata": {
        "id": "tSUIeBnCmCu_"
      },
      "source": [
        "## Listas"
      ]
    },
    {
      "cell_type": "markdown",
      "metadata": {
        "id": "aHOPAa6xmCu_"
      },
      "source": [
        "Las listas de Python son objetos heterogéneos mutables.\n",
        "El acceso habitual es por índice o a través de slices.\n",
        "Se dispone de un importante grupo de métodos (de los objetos de la clase List) para operar con listas."
      ]
    },
    {
      "cell_type": "code",
      "execution_count": null,
      "metadata": {
        "id": "Gx1FX3ylmCvA"
      },
      "outputs": [],
      "source": [
        "#para añadir al final append\n",
        "J=[\"pepe\",3]\n",
        "print(J.index(\"pepe\"))\n",
        "L=[23,45,67,89]\n",
        "L.append(7)\n",
        "L"
      ]
    },
    {
      "cell_type": "code",
      "execution_count": null,
      "metadata": {
        "id": "ys7d-88zmCvB"
      },
      "outputs": [],
      "source": [
        "#Se puede extender una lista con cualquier objeto iterable. Una tuppla,\n",
        "#L.extend((3,4))\n",
        "\n",
        "L.extend(range(1,9))\n",
        "#Lo siguiente no es correcto porque...\n",
        "#L1=L.extend((1,))\n",
        "#print(L1)\n",
        "#Lo siguiente tampoco\n",
        "#L1=L.extend((1,)).copy()\n",
        "#print(L1)\n",
        "L.extend((1,))\n",
        "L1=L.copy()\n",
        "L1"
      ]
    },
    {
      "cell_type": "code",
      "execution_count": null,
      "metadata": {
        "id": "wRDmhHoYmCvB"
      },
      "outputs": [],
      "source": [
        "#Si extendemos una lista con un diccionario, añadimos las claves del diccionario\n",
        "L.extend({2:\"hola\",3:\"adiós\"})\n",
        "L"
      ]
    },
    {
      "cell_type": "code",
      "execution_count": null,
      "metadata": {
        "id": "TEm3MnGImCvC"
      },
      "outputs": [],
      "source": [
        "#Añadir por posición\n",
        "L.insert(2,444)\n",
        "L"
      ]
    },
    {
      "cell_type": "code",
      "execution_count": null,
      "metadata": {
        "id": "Ushc3l3CmCvC"
      },
      "outputs": [],
      "source": [
        "#Borrar un dato (su primera aparición)\n",
        "#L.remove(3)\n",
        "#print(L)\n",
        "L.remove(888)\n",
        "L"
      ]
    },
    {
      "cell_type": "code",
      "execution_count": null,
      "metadata": {
        "id": "-FICbT-WmCvC"
      },
      "outputs": [],
      "source": [
        "L.insert(3,33)\n",
        "L.insert(7,33)\n",
        "L.insert(0,3)\n"
      ]
    },
    {
      "cell_type": "code",
      "execution_count": null,
      "metadata": {
        "id": "gTHzo0qwmCvC"
      },
      "outputs": [],
      "source": [
        "#primer índice que ocupa un elemento a partir de una determinada posición (opcional)\n",
        "L.index(3)"
      ]
    },
    {
      "cell_type": "code",
      "execution_count": null,
      "metadata": {
        "id": "912-5WFZmCvD"
      },
      "outputs": [],
      "source": [
        "L.index(3,5)"
      ]
    },
    {
      "cell_type": "code",
      "execution_count": null,
      "metadata": {
        "id": "tuT_gMS9mCvD"
      },
      "outputs": [],
      "source": [
        "L.index(3,27)"
      ]
    },
    {
      "cell_type": "code",
      "execution_count": null,
      "metadata": {
        "id": "LRLpUPVsmCvD"
      },
      "outputs": [],
      "source": [
        "#Aunque no es un método de listas, el \"operador del\" permite eliminar por posición\n",
        "print(L)\n",
        "del (L[0])\n",
        "print(L)"
      ]
    },
    {
      "cell_type": "code",
      "execution_count": null,
      "metadata": {
        "id": "zLUbSfFnmCvD"
      },
      "outputs": [],
      "source": [
        "del(L[5:8])\n",
        "print(L)\n",
        "#dir(L)"
      ]
    },
    {
      "cell_type": "markdown",
      "metadata": {
        "raw_mimetype": "text/latex",
        "id": "waolvdmAmCvD"
      },
      "source": [
        "###### Trabajo:\n",
        "Hacer pruebas con pop,cont, sort, copy, clear,..."
      ]
    },
    {
      "cell_type": "markdown",
      "metadata": {
        "id": "GI7WkPNxmCvD"
      },
      "source": [
        "Consultar la documentación para ver el uso de las listas Python como pilas y colas."
      ]
    },
    {
      "cell_type": "markdown",
      "metadata": {
        "id": "2fWdCw1cmCvE"
      },
      "source": [
        "###### Muy importante."
      ]
    },
    {
      "cell_type": "code",
      "execution_count": null,
      "metadata": {
        "id": "rE38-UmVmCvE"
      },
      "outputs": [],
      "source": [
        "L.insert(0,8)\n",
        "L\n",
        "type(L.insert(0,8))\n",
        "# help(list.insert)"
      ]
    },
    {
      "cell_type": "markdown",
      "metadata": {
        "id": "Xu6toAv6mCvE"
      },
      "source": [
        "Como ya hemos visto antes, los métodos modificadores no devuelven, es decir, devuelven None.\n",
        "Por eso, no funciona lo siguiente (algo que choca desde el punto de vista funcional)"
      ]
    },
    {
      "cell_type": "code",
      "execution_count": null,
      "metadata": {
        "id": "IWNoOumtmCvE"
      },
      "outputs": [],
      "source": [
        "\n",
        "L.insert(0,8).insert(4,5)\n"
      ]
    },
    {
      "cell_type": "markdown",
      "metadata": {
        "id": "hnu4ZvzLmCvE"
      },
      "source": [
        "### Listas por comprensión"
      ]
    },
    {
      "cell_type": "markdown",
      "metadata": {
        "id": "u-LPTO9TmCvE"
      },
      "source": [
        "Una herramienta importante de Python es la definición de listas por comprensión, un mecanismo propio de la Programación Funcional y que veremos con más detalle en sesiones posteriores.\n",
        "Corresponde a un tipo de definición habitual en matemáticas, conjuntos definidos por \"comprensión\". De momento, nos limitamos a presentarlo."
      ]
    },
    {
      "cell_type": "code",
      "execution_count": null,
      "metadata": {
        "id": "ZH44H1TxmCvE"
      },
      "outputs": [],
      "source": [
        "dobles=[2*x for x in [1,2,3,4,5,6]]\n",
        "print(dobles)"
      ]
    },
    {
      "cell_type": "code",
      "execution_count": null,
      "metadata": {
        "id": "hQqqKg68mCvF"
      },
      "outputs": [],
      "source": [
        "#Es una forma muy cómoda y compacta de calcular expresiones de tipo list\n",
        "#Equivale a:\n",
        "duplos=[]\n",
        "for x in [1,2,3,4,5,6]:\n",
        "    duplos.append(2*x)\n",
        "print(duplos)"
      ]
    },
    {
      "cell_type": "code",
      "execution_count": null,
      "metadata": {
        "id": "9CqJjkOMmCvF"
      },
      "outputs": [],
      "source": [
        "#Se pueden filtrar elementos\n",
        "triples=[3*x for x in range(1,7) if (x%2==0)]\n",
        "triples"
      ]
    },
    {
      "cell_type": "code",
      "execution_count": null,
      "metadata": {
        "id": "smXU8atJmCvF"
      },
      "outputs": [],
      "source": [
        "#Equivale a\n",
        "triplos=[]\n",
        "for x in [1,2,3,4,5,6]:\n",
        "    if (x%2==0):\n",
        "        triplos.append(3*x)\n",
        "print(triplos)"
      ]
    },
    {
      "cell_type": "code",
      "execution_count": null,
      "metadata": {
        "id": "40HaKJpLmCvF"
      },
      "outputs": [],
      "source": [
        "#Se admiten expresiones lista, tupla,..\n",
        "#Se admite concatenación de parejas for...if\n",
        "combi=[(x, y) for x in [1,2,3] for y in [3,1,4] if x != y]\n",
        "combi"
      ]
    },
    {
      "cell_type": "code",
      "execution_count": null,
      "metadata": {
        "id": "0I5_aAmpmCvF"
      },
      "outputs": [],
      "source": [
        "combs = []\n",
        "for x in [1,2,3]:\n",
        "    for y in [3,11,4]:\n",
        "        if x != y:\n",
        "            combs.append((x, y))\n",
        "combs"
      ]
    },
    {
      "cell_type": "code",
      "execution_count": null,
      "metadata": {
        "id": "XUrE6FrOmCvF"
      },
      "outputs": [],
      "source": [
        "#Se pueden anidar listas definidas por conprensión.\n",
        "ani=[[x*x for x in range(1,i)] for i in range(2,7)]\n",
        "ani"
      ]
    },
    {
      "cell_type": "markdown",
      "metadata": {
        "id": "hbvsEKpHmCvF"
      },
      "source": [
        "Ejercicio: calcular directamente la lista anterior\n",
        "    "
      ]
    },
    {
      "cell_type": "code",
      "execution_count": null,
      "metadata": {
        "id": "5HiEm1xZmCvG"
      },
      "outputs": [],
      "source": [
        "def ident(n):\n",
        "    return([[int(i==x) for i in range(0,n)] for x in range (0,n)])\n",
        "\n",
        "print(ident(3))"
      ]
    },
    {
      "cell_type": "markdown",
      "metadata": {
        "id": "peZNrYYymCvG"
      },
      "source": [
        "###### Otros tipos secuencia (además de listas): tuplas y rangos"
      ]
    },
    {
      "cell_type": "markdown",
      "metadata": {
        "id": "BDj2ph3qmCvG"
      },
      "source": [
        "Los tres tipos secuencia básicos son listas, tuplas y rangos.\n",
        "Los operadores comunes  todos ellos los encontramos en:\n",
        "    https://docs.python.org/3/library/stdtypes.html#typesseq"
      ]
    },
    {
      "cell_type": "code",
      "execution_count": null,
      "metadata": {
        "id": "DENd6-X0mCvG"
      },
      "outputs": [],
      "source": [
        "#Respecto de TUPLAS, se trata de secuencias inmutables y heterogéneas\n",
        "t=3,[3,4],\"pepe\"\n",
        "print(t)"
      ]
    },
    {
      "cell_type": "code",
      "execution_count": null,
      "metadata": {
        "id": "bpt1YmGHmCvG"
      },
      "outputs": [],
      "source": [
        "#Ya dijimos que son objetos inmutables\n",
        "t[2]=4"
      ]
    },
    {
      "cell_type": "code",
      "execution_count": null,
      "metadata": {
        "id": "CuBdDDz3mCvG"
      },
      "outputs": [],
      "source": [
        "#El acceso por índice y slice es el común a todos los tipos de secuencias\n",
        "t[1]"
      ]
    },
    {
      "cell_type": "code",
      "execution_count": null,
      "metadata": {
        "id": "-LGWEh5amCvG"
      },
      "outputs": [],
      "source": [
        "t[0:1]"
      ]
    },
    {
      "cell_type": "code",
      "execution_count": null,
      "metadata": {
        "id": "DdTNpfffmCvQ"
      },
      "outputs": [],
      "source": [
        "#La tupla vacía\n",
        "s=()\n",
        "s"
      ]
    },
    {
      "cell_type": "code",
      "execution_count": null,
      "metadata": {
        "id": "pgs5uUhumCvQ"
      },
      "outputs": [],
      "source": [
        "#los átomos llevan una coma\n",
        "s=(3,)\n",
        "s\n",
        "type ((3))\n",
        "#type((3,))"
      ]
    },
    {
      "cell_type": "code",
      "execution_count": null,
      "metadata": {
        "id": "hkdpH3_OmCvR"
      },
      "outputs": [],
      "source": [
        "s=3,\n",
        "s"
      ]
    },
    {
      "cell_type": "code",
      "execution_count": null,
      "metadata": {
        "id": "-aimmdCVmCvR"
      },
      "outputs": [],
      "source": [
        "#Se construyen a partir de cualquier iterable. Una lista, por ejemplo.\n",
        "s=tuple([x*x for x in range(2,5)])\n",
        "s"
      ]
    },
    {
      "cell_type": "code",
      "execution_count": null,
      "metadata": {
        "id": "3yiNyLzcmCvR"
      },
      "outputs": [],
      "source": [
        "#Empaquetado y desempquetado. Corresponde con la idea de matching\n",
        "s=3,4,5\n",
        "x,y,z=s\n",
        "y"
      ]
    },
    {
      "cell_type": "code",
      "execution_count": null,
      "metadata": {
        "id": "omebf_EumCvR"
      },
      "outputs": [],
      "source": [
        "#Más adelante en el curso trataremos con rigor los rangos.\n",
        "#Aunque no es el uso habitual, los rangos pueden ser utilizados directamente\n",
        "#como secuencias\n",
        "#Se basan en la idea de evluación perezosa (no se calculan sus elementos hasta que no se demanda)\n",
        "range (1,25,2)"
      ]
    },
    {
      "cell_type": "code",
      "execution_count": null,
      "metadata": {
        "id": "zHSfR2xjmCvR"
      },
      "outputs": [],
      "source": [
        "print(range(1, 25, 2))"
      ]
    },
    {
      "cell_type": "code",
      "execution_count": null,
      "metadata": {
        "id": "VCpnvsZ6mCvS"
      },
      "outputs": [],
      "source": [
        "4 in range(1,25,2)"
      ]
    },
    {
      "cell_type": "code",
      "execution_count": null,
      "metadata": {
        "id": "XCXK-2osmCvS"
      },
      "outputs": [],
      "source": [
        "s=range(1,25,7)\n",
        "s.step"
      ]
    },
    {
      "cell_type": "code",
      "execution_count": null,
      "metadata": {
        "id": "LLf23_wJmCvS"
      },
      "outputs": [],
      "source": [
        "5 not in s"
      ]
    },
    {
      "cell_type": "code",
      "execution_count": null,
      "metadata": {
        "id": "r95I06NYmCvS"
      },
      "outputs": [],
      "source": [
        "s=tuple(range(4,8))\n",
        "s"
      ]
    },
    {
      "cell_type": "code",
      "execution_count": null,
      "metadata": {
        "id": "2NbD884XmCvS"
      },
      "outputs": [],
      "source": [
        "min(range(5,8))+max(range(3,7))\n"
      ]
    },
    {
      "cell_type": "code",
      "execution_count": null,
      "metadata": {
        "id": "s4TvSlvKmCvS"
      },
      "outputs": [],
      "source": [
        "range(2,4)[1]"
      ]
    },
    {
      "cell_type": "code",
      "execution_count": null,
      "metadata": {
        "id": "-mW1GJJqmCvT"
      },
      "outputs": [],
      "source": [
        "#Accesores a rangos mediante índices\n",
        "l=range(2,17)[2:7:3]\n",
        "print(l)"
      ]
    },
    {
      "cell_type": "markdown",
      "metadata": {
        "id": "A_aC_hFTmCvT"
      },
      "source": [
        "##### Trabajo personal:\n",
        "Respecto de conjuntos y diccionarios, consultad el Tutorial de Python"
      ]
    },
    {
      "cell_type": "code",
      "execution_count": null,
      "metadata": {
        "id": "btL8hmYsmCvT"
      },
      "outputs": [],
      "source": [
        "list(l)\n",
        "l.count(6)"
      ]
    },
    {
      "cell_type": "markdown",
      "source": [
        "-------------------------------"
      ],
      "metadata": {
        "id": "JcgkaHVNnYm8"
      }
    },
    {
      "cell_type": "markdown",
      "metadata": {
        "id": "cyjsVCWpmCvT"
      },
      "source": [
        "## Ejercicios\n",
        "\n",
        "A continuación se listan los ejercicios a realizar para esta sesión. Para cada uno de ellos se proporciona la cabecera de la función a definir junto con unos casos de prueba para verificar el comportamiento correcto de los métodos. Lo único que deberás hacer es reemplazar el ``pass`` por la definición de la función."
      ]
    },
    {
      "cell_type": "markdown",
      "source": [
        "**Ejercicio:** Mediante listas definidas por comprensión define una función que calcule la suma de los cuadrados de los números menores que un entero dado."
      ],
      "metadata": {
        "id": "Gfo88vC9pZQu"
      }
    },
    {
      "cell_type": "code",
      "source": [
        "def suma_cuadrados_menores_entero(lista,x):\n",
        "  '''\n",
        "  >>> suma_cuadrados_menores_entero([],2)\n",
        "  0\n",
        "  >>> suma_cuadrados_menores_entero(range(0,10),5)\n",
        "  30\n",
        "  >>> suma_cuadrados_menores_entero(range(-10,10,2),0)\n",
        "  220\n",
        "  '''\n",
        "  pass"
      ],
      "metadata": {
        "id": "krlbKzrZphiV"
      },
      "execution_count": null,
      "outputs": []
    },
    {
      "cell_type": "code",
      "source": [
        "import doctest\n",
        "doctest.testmod()"
      ],
      "metadata": {
        "id": "JuQBX8W5phfl"
      },
      "execution_count": null,
      "outputs": []
    },
    {
      "cell_type": "markdown",
      "source": [
        "**Ejercicio:** Mediante listas definidas por comprensión define una función que calcule la lista de los divisores de un número."
      ],
      "metadata": {
        "id": "xnh8WJx7prs-"
      }
    },
    {
      "cell_type": "code",
      "source": [
        "def divisores(x):\n",
        "  '''\n",
        "  >>> divisores(0)\n",
        "  []\n",
        "  >>> divisores(7)\n",
        "  [1, 7]\n",
        "  >>> divisores(12)\n",
        "  [1, 2, 3, 4, 6, 12]\n",
        "  '''\n",
        "  pass"
      ],
      "metadata": {
        "id": "CIh3y4z4prs_"
      },
      "execution_count": null,
      "outputs": []
    },
    {
      "cell_type": "code",
      "source": [
        "doctest.testmod()"
      ],
      "metadata": {
        "id": "VHSw4piEprtA"
      },
      "execution_count": null,
      "outputs": []
    },
    {
      "cell_type": "markdown",
      "source": [
        "**Ejercicio:** Mediante listas definidas por comprensión define una función que determine si un número es primo."
      ],
      "metadata": {
        "id": "VTr5la-Up1Wr"
      }
    },
    {
      "cell_type": "code",
      "source": [
        "def es_primo(x):\n",
        "  '''\n",
        "  >>> es_primo(1)\n",
        "  False\n",
        "  >>> es_primo(7)\n",
        "  True\n",
        "  >>> es_primo(12)\n",
        "  False\n",
        "  '''\n",
        "  pass"
      ],
      "metadata": {
        "id": "1mhyZg5Xp1Ws"
      },
      "execution_count": null,
      "outputs": []
    },
    {
      "cell_type": "code",
      "source": [
        "doctest.testmod()"
      ],
      "metadata": {
        "id": "_K5jUwmJp1Ws"
      },
      "execution_count": null,
      "outputs": []
    },
    {
      "cell_type": "markdown",
      "source": [
        "**Ejercicio:** Mediante listas definidas por comprensión define una función que calcule los primos menores que un entero dado."
      ],
      "metadata": {
        "id": "1t9TLWlgqALk"
      }
    },
    {
      "cell_type": "code",
      "source": [
        "def primos_menores(x):\n",
        "  '''\n",
        "  >>> primos_menores(1)\n",
        "  []\n",
        "  >>> primos_menores(10)\n",
        "  [2, 3, 5, 7]\n",
        "  >>> primos_menores(50)\n",
        "  [2, 3, 5, 7, 11, 13, 17, 19, 23, 29, 31, 37, 41, 43, 47]\n",
        "  '''\n",
        "  pass"
      ],
      "metadata": {
        "id": "brqFhGDDqALl"
      },
      "execution_count": null,
      "outputs": []
    },
    {
      "cell_type": "code",
      "source": [
        "doctest.testmod()"
      ],
      "metadata": {
        "id": "UTY6MP-TqALl"
      },
      "execution_count": null,
      "outputs": []
    },
    {
      "cell_type": "markdown",
      "source": [
        "**Ejercicio:** Implementa el método para [ordenar por mezcla](https://es.wikipedia.org/wiki/Ordenamiento_por_mezcla) una lista."
      ],
      "metadata": {
        "id": "4PEyRS0GqIMO"
      }
    },
    {
      "cell_type": "code",
      "source": [
        "def mergesort(lista):\n",
        "  '''\n",
        "  >>> mergesort([])\n",
        "  []\n",
        "  >>> mergesort([1])\n",
        "  [1]\n",
        "  >>> mergesort([5,1,-1,4,5,7])\n",
        "  [-1, 1, 4, 5, 5, 7]\n",
        "  >>> mergesort([5,1,-1,4,5,7,8])\n",
        "  [-1, 1, 4, 5, 5, 7, 8]\n",
        "  '''\n",
        "  pass"
      ],
      "metadata": {
        "id": "Uw9x7r3cqIMP"
      },
      "execution_count": null,
      "outputs": []
    },
    {
      "cell_type": "code",
      "source": [
        "doctest.testmod()"
      ],
      "metadata": {
        "id": "0-gYgQh0qIMQ"
      },
      "execution_count": null,
      "outputs": []
    },
    {
      "cell_type": "markdown",
      "source": [
        "**Ejercicio:** Implementa el método [quicksort](https://es.wikipedia.org/wiki/Quicksort) para ordenar una lista."
      ],
      "metadata": {
        "id": "6TbMkAhnqSpb"
      }
    },
    {
      "cell_type": "code",
      "source": [
        "def quicksort(lista):\n",
        "  '''\n",
        "  >>> quicksort([])\n",
        "  []\n",
        "  >>> quicksort([1])\n",
        "  [1]\n",
        "  >>> quicksort([5,1,-1,4,5,7])\n",
        "  [-1, 1, 4, 5, 5, 7]\n",
        "  >>> quicksort([5,1,-1,4,5,7,8])\n",
        "  [-1, 1, 4, 5, 5, 7, 8]\n",
        "  '''\n",
        "  pass"
      ],
      "metadata": {
        "id": "TI3-VKGpqSpb"
      },
      "execution_count": null,
      "outputs": []
    },
    {
      "cell_type": "code",
      "source": [
        "doctest.testmod()"
      ],
      "metadata": {
        "id": "jj42LPq4qSpc"
      },
      "execution_count": null,
      "outputs": []
    },
    {
      "cell_type": "markdown",
      "source": [
        "**Ejercicio:** Implementa el cálculo de la transpuesta de una matriz mediante listas por comprensión. Se proporciona como ayuda la implementación de la transpuesta de una matriz \"a pelo\"."
      ],
      "metadata": {
        "id": "dYPy5ipGqf95"
      }
    },
    {
      "cell_type": "code",
      "source": [
        "#La siguiente función calcula la traspuesta de una matriz \"a pelo\".\n",
        "def traspuestaAPelo (m):\n",
        "    tras=[]\n",
        "    for i in range(len(m[0])):\n",
        "        filaT=[]\n",
        "        for j in range(len(m)):\n",
        "            filaT.append(m[j][i])\n",
        "        tras.append(filaT)\n",
        "    return(tras)\n",
        "traspuestaAPelo([[1,2,3],[4,5,6]])"
      ],
      "metadata": {
        "id": "o87fiBLgqrkQ"
      },
      "execution_count": null,
      "outputs": []
    },
    {
      "cell_type": "code",
      "source": [
        "def transpuesta(lista):\n",
        "  '''\n",
        "  >>> transpuesta([[1,2,3],[4,5,6]])\n",
        "  [[1, 4], [2, 5], [3, 6]]\n",
        "  >>> transpuesta([[1, 4], [2, 5], [3, 6]])\n",
        "  [[1, 2, 3], [4, 5, 6]]\n",
        "  >>> transpuesta([[1, 4, 5], [2, 5, 7], [3, 6, 1]])\n",
        "  [[1, 2, 3], [4, 5, 6], [5, 7, 1]]\n",
        "  '''\n",
        "  pass"
      ],
      "metadata": {
        "id": "Tg-5h79sqf96"
      },
      "execution_count": null,
      "outputs": []
    },
    {
      "cell_type": "code",
      "source": [
        "doctest.testmod()"
      ],
      "metadata": {
        "id": "bn2-KE4Fqf96"
      },
      "execution_count": null,
      "outputs": []
    },
    {
      "cell_type": "markdown",
      "metadata": {
        "id": "Z8clnWPnmCvU"
      },
      "source": [
        "**Ejercicio:** Dado un grafo orientado (representado mediante un diccionario en el cual las claves son los vértices y los valores son listas con los vertices adyacentes)  y uno de sus vértices, decidir si ese vértice es un sumidero (ninguna arista sale desde él). Además, mediante listas por comprensión, dado un grafo orientado decidir si contiene algún sumidero."
      ]
    },
    {
      "cell_type": "code",
      "source": [
        "def es_sumidero(grafo,vertice):\n",
        "  '''\n",
        "  >>> es_sumidero({1: [2,3,4], 2: [], 3: [2,4],4: [2]}, 2)\n",
        "  True\n",
        "  >>> es_sumidero({1: [2,3,4], 2: [], 3: [2,4],4: [2]}, 1)\n",
        "  False\n",
        "  >>> es_sumidero({1: [2,3,4], 2: [], 3: [2,4],4: [2]}, 3)\n",
        "  False\n",
        "  >>> es_sumidero({1: [2,3,4], 2: [], 3: [2,4],4: [2]}, 4)\n",
        "  False\n",
        "  '''\n",
        "  pass"
      ],
      "metadata": {
        "id": "PzF-FYWYqxa7"
      },
      "execution_count": null,
      "outputs": []
    },
    {
      "cell_type": "code",
      "source": [
        "doctest.testmod()"
      ],
      "metadata": {
        "id": "bl27b1NeqxVf"
      },
      "execution_count": null,
      "outputs": []
    },
    {
      "cell_type": "code",
      "source": [
        "def contiene_sumidero(grafo):\n",
        "  '''\n",
        "  >>> contiene_sumidero({1: [2,3,4], 2: [], 3: [2,4],4: [2]})\n",
        "  True\n",
        "  >>> contiene_sumidero({})\n",
        "  False\n",
        "  >>> contiene_sumidero({1: [2,4], 2: [3,4], 3: [1],4: [3]})\n",
        "  False\n",
        "  '''\n",
        "  pass"
      ],
      "metadata": {
        "id": "I1k3NqCGqxBn"
      },
      "execution_count": null,
      "outputs": []
    },
    {
      "cell_type": "code",
      "source": [
        "doctest.testmod()"
      ],
      "metadata": {
        "id": "n35HWr03qw4P"
      },
      "execution_count": null,
      "outputs": []
    },
    {
      "cell_type": "markdown",
      "metadata": {
        "id": "9Cwzs5bMmCvU"
      },
      "source": [
        "**Ejercicio:** Implementa tu propio método zip de una lista de listas usando listas por comprensión."
      ]
    },
    {
      "cell_type": "code",
      "execution_count": null,
      "metadata": {
        "id": "ggoLm4YWmCvU"
      },
      "outputs": [],
      "source": [
        "def mizip(lista1,lista2):\n",
        "  '''\n",
        "  >>> mizip([1,2,3],[4,5])\n",
        "  [(1, 4), (2, 5)]\n",
        "  >>> mizip([1,2,3],[4,5,6])\n",
        "  [(1, 4), (2, 5), (3, 6)]\n",
        "  >>> mizip([1,2],[4,5,6])\n",
        "  [(1, 4), (2, 5)]\n",
        "  '''\n",
        "  pass"
      ]
    },
    {
      "cell_type": "code",
      "execution_count": null,
      "metadata": {
        "id": "F0QF_VgCmCvU"
      },
      "outputs": [],
      "source": [
        "doctest.testmod()"
      ]
    },
    {
      "cell_type": "markdown",
      "source": [
        "# Entrega\n",
        "Recuerda guardar este notebook en tu repositorio de GitHub."
      ],
      "metadata": {
        "id": "LjU5aMwiHbn0"
      }
    }
  ],
  "metadata": {
    "celltoolbar": "Raw Cell Format",
    "kernelspec": {
      "display_name": "Python 3 (ipykernel)",
      "language": "python",
      "name": "python3"
    },
    "language_info": {
      "codemirror_mode": {
        "name": "ipython",
        "version": 3
      },
      "file_extension": ".py",
      "mimetype": "text/x-python",
      "name": "python",
      "nbconvert_exporter": "python",
      "pygments_lexer": "ipython3",
      "version": "3.8.10"
    },
    "colab": {
      "provenance": []
    }
  },
  "nbformat": 4,
  "nbformat_minor": 0
}